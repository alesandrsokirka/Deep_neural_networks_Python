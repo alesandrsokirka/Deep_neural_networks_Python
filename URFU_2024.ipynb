{
  "metadata": {
    "kernelspec": {
      "display_name": "Python 3",
      "name": "python3"
    },
    "language_info": {
      "name": "python",
      "version": "3.10.13",
      "mimetype": "text/x-python",
      "codemirror_mode": {
        "name": "ipython",
        "version": 3
      },
      "pygments_lexer": "ipython3",
      "nbconvert_exporter": "python",
      "file_extension": ".py"
    },
    "kaggle": {
      "accelerator": "nvidiaTeslaT4",
      "dataSources": [
        {
          "sourceId": 76981,
          "databundleVersionId": 8350831,
          "sourceType": "competition"
        },
        {
          "sourceId": 8398138,
          "sourceType": "datasetVersion",
          "datasetId": 4996344
        }
      ],
      "dockerImageVersionId": 30699,
      "isInternetEnabled": true,
      "language": "python",
      "sourceType": "notebook",
      "isGpuEnabled": true
    },
    "colab": {
      "provenance": [],
      "gpuType": "T4",
      "toc_visible": true
    },
    "accelerator": "GPU"
  },
  "nbformat_minor": 0,
  "nbformat": 4,
  "cells": [
    {
      "cell_type": "markdown",
      "source": [
        "# Информация импорта с Kaggle"
      ],
      "metadata": {
        "id": "YXlqPjpgRX2q"
      }
    },
    {
      "source": [
        "import os\n",
        "import sys\n",
        "from tempfile import NamedTemporaryFile\n",
        "from urllib.request import urlopen\n",
        "from urllib.parse import unquote, urlparse\n",
        "from urllib.error import HTTPError\n",
        "from zipfile import ZipFile\n",
        "import tarfile\n",
        "import shutil"
      ],
      "metadata": {
        "id": "akcKqHhmRLZq"
      },
      "cell_type": "code",
      "outputs": [],
      "execution_count": null
    },
    {
      "cell_type": "markdown",
      "source": [
        "# Импорт библиотек"
      ],
      "metadata": {
        "id": "Ef8CHHJbRLZs"
      }
    },
    {
      "cell_type": "code",
      "source": [
        "import pandas as pd\n",
        "import numpy as np\n",
        "\n",
        "from keras.models import Sequential\n",
        "from keras.layers import Conv2D, MaxPooling2D, Flatten, Dense, Input"
      ],
      "metadata": {
        "execution": {
          "iopub.status.busy": "2024-05-13T08:19:35.265172Z",
          "iopub.execute_input": "2024-05-13T08:19:35.265563Z",
          "iopub.status.idle": "2024-05-13T08:19:35.270374Z",
          "shell.execute_reply.started": "2024-05-13T08:19:35.265535Z",
          "shell.execute_reply": "2024-05-13T08:19:35.269393Z"
        },
        "trusted": true,
        "id": "wNftRI9MRLZu"
      },
      "execution_count": null,
      "outputs": []
    },
    {
      "cell_type": "markdown",
      "source": [
        "# Загрузка данных"
      ],
      "metadata": {
        "id": "TzTvwXSXRLZv"
      }
    },
    {
      "cell_type": "code",
      "source": [
        "# Загрузка обучающей выборки\n",
        "train_data = pd.read_csv('dataset/fashion-mnist_train.csv/fashion-mnist_train.csv')\n",
        "\n",
        "# Загрузка тестовой выборки\n",
        "test_data = pd.read_csv('dataset/fashion-mnist_test.csv/fashion-mnist_test.csv')"
      ],
      "metadata": {
        "execution": {
          "iopub.status.busy": "2024-05-13T08:11:34.96357Z",
          "iopub.execute_input": "2024-05-13T08:11:34.963892Z",
          "iopub.status.idle": "2024-05-13T08:11:41.805818Z",
          "shell.execute_reply.started": "2024-05-13T08:11:34.963867Z",
          "shell.execute_reply": "2024-05-13T08:11:41.805013Z"
        },
        "trusted": true,
        "id": "W8PUnrLmRLZw"
      },
      "execution_count": null,
      "outputs": []
    },
    {
      "cell_type": "markdown",
      "source": [
        "# Проверка на наличие NaN значений"
      ],
      "metadata": {
        "id": "XzDA8-raRLZx"
      }
    },
    {
      "cell_type": "code",
      "source": [
        "# Проверка на наличие NaN значений в обучающей выборке\n",
        "print(\"Общее количество пропущенных значений в обучающей выборке:\",\n",
        "      train_data.isnull().sum().sum())\n",
        "\n",
        "# Проверка на наличие NaN значений в тестовой выборке\n",
        "print(\"Общее количество пропущенных значений в тестовой выборке:\",\n",
        "      test_data.isnull().sum().sum())"
      ],
      "metadata": {
        "execution": {
          "iopub.status.busy": "2024-05-13T08:11:47.090411Z",
          "iopub.execute_input": "2024-05-13T08:11:47.091049Z",
          "iopub.status.idle": "2024-05-13T08:11:47.137235Z",
          "shell.execute_reply.started": "2024-05-13T08:11:47.09102Z",
          "shell.execute_reply": "2024-05-13T08:11:47.136325Z"
        },
        "trusted": true,
        "id": "wiH7mzgKRLZx",
        "colab": {
          "base_uri": "https://localhost:8080/"
        },
        "outputId": "088ee491-1623-4a28-8fa7-f9032349673d"
      },
      "execution_count": null,
      "outputs": [
        {
          "output_type": "stream",
          "name": "stdout",
          "text": [
            "Общее количество пропущенных значений в обучающей выборке: 0\n",
            "Общее количество пропущенных значений в тестовой выборке: 0\n"
          ]
        }
      ]
    },
    {
      "cell_type": "markdown",
      "source": [
        "# Подготовка данных"
      ],
      "metadata": {
        "id": "LP1KANuuRLZy"
      }
    },
    {
      "cell_type": "code",
      "source": [
        "# Извлечение меток классов и изображений из обучающей выборки\n",
        "train_labels = train_data['label']\n",
        "train_images = train_data.drop(['label'], axis=1)\n",
        "\n",
        "# Извлечение меток классов и изображений из тестовой выборки\n",
        "test_labels = test_data['label']\n",
        "test_images = test_data.drop(['label'], axis=1)"
      ],
      "metadata": {
        "execution": {
          "iopub.status.busy": "2024-05-13T08:11:50.990881Z",
          "iopub.execute_input": "2024-05-13T08:11:50.99181Z",
          "iopub.status.idle": "2024-05-13T08:11:51.149442Z",
          "shell.execute_reply.started": "2024-05-13T08:11:50.99177Z",
          "shell.execute_reply": "2024-05-13T08:11:51.148643Z"
        },
        "trusted": true,
        "id": "WrmD7YHgRLZy"
      },
      "execution_count": null,
      "outputs": []
    },
    {
      "cell_type": "markdown",
      "source": [
        "# Предварительная обработка изображений"
      ],
      "metadata": {
        "id": "HgMe4rmNRLZz"
      }
    },
    {
      "cell_type": "code",
      "source": [
        "# Преобразование изображений в двумерные массивы\n",
        "train_images = train_images.values.reshape(-1, 28, 28)\n",
        "test_images = test_images.values.reshape(-1, 28, 28)"
      ],
      "metadata": {
        "execution": {
          "iopub.status.busy": "2024-05-13T08:11:54.797974Z",
          "iopub.execute_input": "2024-05-13T08:11:54.798413Z",
          "iopub.status.idle": "2024-05-13T08:11:54.803054Z",
          "shell.execute_reply.started": "2024-05-13T08:11:54.79838Z",
          "shell.execute_reply": "2024-05-13T08:11:54.802104Z"
        },
        "trusted": true,
        "id": "ZjUNt91HRLZz"
      },
      "execution_count": null,
      "outputs": []
    },
    {
      "cell_type": "markdown",
      "source": [
        "# Нормализация данных"
      ],
      "metadata": {
        "id": "d1-FmbVxRLZ0"
      }
    },
    {
      "cell_type": "code",
      "source": [
        "# Нормализация пикселей изображений\n",
        "train_images = train_images / 255.0\n",
        "test_images = test_images / 255.0"
      ],
      "metadata": {
        "execution": {
          "iopub.status.busy": "2024-05-13T08:11:58.182781Z",
          "iopub.execute_input": "2024-05-13T08:11:58.183623Z",
          "iopub.status.idle": "2024-05-13T08:11:58.353464Z",
          "shell.execute_reply.started": "2024-05-13T08:11:58.183591Z",
          "shell.execute_reply": "2024-05-13T08:11:58.3524Z"
        },
        "trusted": true,
        "id": "KtrEfn6BRLZ0"
      },
      "execution_count": null,
      "outputs": []
    },
    {
      "cell_type": "markdown",
      "source": [
        "# Создание модели"
      ],
      "metadata": {
        "id": "aYOkk2RJRLZ0"
      }
    },
    {
      "cell_type": "code",
      "source": [
        "model = Sequential([\n",
        "    # Использование объекта Input для определения формы входных данных\n",
        "    Input(shape=(28, 28, 1)),\n",
        "    Conv2D(32, (3, 3), activation='relu'),\n",
        "    MaxPooling2D((2, 2)),\n",
        "    Flatten(),\n",
        "    Dense(64, activation='relu'),\n",
        "    Dense(10, activation='softmax')\n",
        "])\n",
        "\n",
        "# Компилирование модели\n",
        "model.compile(optimizer='adam', loss='sparse_categorical_crossentropy', metrics=['accuracy'])\n",
        "\n",
        "# Вывод сводки модели\n",
        "model.summary()"
      ],
      "metadata": {
        "execution": {
          "iopub.status.busy": "2024-05-13T08:19:40.337742Z",
          "iopub.execute_input": "2024-05-13T08:19:40.33811Z",
          "iopub.status.idle": "2024-05-13T08:19:40.39051Z",
          "shell.execute_reply.started": "2024-05-13T08:19:40.338081Z",
          "shell.execute_reply": "2024-05-13T08:19:40.389624Z"
        },
        "trusted": true,
        "id": "_26udzLKRLZ1",
        "colab": {
          "base_uri": "https://localhost:8080/"
        },
        "outputId": "b5eba684-269e-4660-c7a2-060dd2f19022"
      },
      "execution_count": null,
      "outputs": [
        {
          "output_type": "stream",
          "name": "stdout",
          "text": [
            "Model: \"sequential\"\n",
            "_________________________________________________________________\n",
            " Layer (type)                Output Shape              Param #   \n",
            "=================================================================\n",
            " conv2d (Conv2D)             (None, 26, 26, 32)        320       \n",
            "                                                                 \n",
            " max_pooling2d (MaxPooling2  (None, 13, 13, 32)        0         \n",
            " D)                                                              \n",
            "                                                                 \n",
            " flatten (Flatten)           (None, 5408)              0         \n",
            "                                                                 \n",
            " dense (Dense)               (None, 64)                346176    \n",
            "                                                                 \n",
            " dense_1 (Dense)             (None, 10)                650       \n",
            "                                                                 \n",
            "=================================================================\n",
            "Total params: 347146 (1.32 MB)\n",
            "Trainable params: 347146 (1.32 MB)\n",
            "Non-trainable params: 0 (0.00 Byte)\n",
            "_________________________________________________________________\n"
          ]
        }
      ]
    },
    {
      "cell_type": "markdown",
      "source": [
        "# Обучение модели"
      ],
      "metadata": {
        "id": "G4XfCLcFRLZ1"
      }
    },
    {
      "cell_type": "code",
      "source": [
        "model.fit(train_images, train_labels, epochs=10)"
      ],
      "metadata": {
        "execution": {
          "iopub.status.busy": "2024-05-13T08:25:12.197419Z",
          "iopub.execute_input": "2024-05-13T08:25:12.197864Z",
          "iopub.status.idle": "2024-05-13T08:25:49.993565Z",
          "shell.execute_reply.started": "2024-05-13T08:25:12.197837Z",
          "shell.execute_reply": "2024-05-13T08:25:49.992706Z"
        },
        "trusted": true,
        "id": "owZrF1HZRLZ1",
        "colab": {
          "base_uri": "https://localhost:8080/"
        },
        "outputId": "f68581a9-4cab-44e9-ffe3-48228a7ab8f6"
      },
      "execution_count": null,
      "outputs": [
        {
          "output_type": "stream",
          "name": "stdout",
          "text": [
            "Epoch 1/10\n",
            "1875/1875 [==============================] - 9s 3ms/step - loss: 0.4141 - accuracy: 0.8537\n",
            "Epoch 2/10\n",
            "1875/1875 [==============================] - 5s 3ms/step - loss: 0.2830 - accuracy: 0.8983\n",
            "Epoch 3/10\n",
            "1875/1875 [==============================] - 6s 3ms/step - loss: 0.2398 - accuracy: 0.9135\n",
            "Epoch 4/10\n",
            "1875/1875 [==============================] - 5s 3ms/step - loss: 0.2104 - accuracy: 0.9229\n",
            "Epoch 5/10\n",
            "1875/1875 [==============================] - 6s 3ms/step - loss: 0.1857 - accuracy: 0.9324\n",
            "Epoch 6/10\n",
            "1875/1875 [==============================] - 5s 3ms/step - loss: 0.1649 - accuracy: 0.9396\n",
            "Epoch 7/10\n",
            "1875/1875 [==============================] - 6s 3ms/step - loss: 0.1459 - accuracy: 0.9461\n",
            "Epoch 8/10\n",
            "1875/1875 [==============================] - 5s 3ms/step - loss: 0.1297 - accuracy: 0.9521\n",
            "Epoch 9/10\n",
            "1875/1875 [==============================] - 6s 3ms/step - loss: 0.1131 - accuracy: 0.9585\n",
            "Epoch 10/10\n",
            "1875/1875 [==============================] - 6s 3ms/step - loss: 0.1024 - accuracy: 0.9625\n"
          ]
        },
        {
          "output_type": "execute_result",
          "data": {
            "text/plain": [
              "<keras.src.callbacks.History at 0x7ea1e03f95d0>"
            ]
          },
          "metadata": {},
          "execution_count": 9
        }
      ]
    },
    {
      "cell_type": "markdown",
      "source": [
        "# Предсказание и сохранение файла submission.csv для отправки"
      ],
      "metadata": {
        "id": "I2hfZR9sRLZ1"
      }
    },
    {
      "cell_type": "code",
      "source": [
        "# Предсказание вероятностей классов для тестовой выборки\n",
        "predictions_probabilities = model.predict(test_images)\n",
        "\n",
        "# Преобразование вероятностей в классы, выбирая класс с наибольшей вероятностью\n",
        "predictions = np.argmax(predictions_probabilities, axis=1)\n",
        "\n",
        "# Создание DataFrame для отправки\n",
        "submission = pd.DataFrame({\n",
        "    'Id': range(len(predictions)),  # Создаем столбец 'id' с числами от 0 до len(predictions)-1\n",
        "    'Category': predictions\n",
        "})\n",
        "\n",
        "# Сохранение файла для отправки\n",
        "submission.to_csv('submission.csv', index=False)"
      ],
      "metadata": {
        "execution": {
          "iopub.status.busy": "2024-05-13T08:53:58.600688Z",
          "iopub.execute_input": "2024-05-13T08:53:58.601309Z",
          "iopub.status.idle": "2024-05-13T08:53:59.176761Z",
          "shell.execute_reply.started": "2024-05-13T08:53:58.601276Z",
          "shell.execute_reply": "2024-05-13T08:53:59.175962Z"
        },
        "trusted": true,
        "id": "JW_VTIRDRLZ2",
        "colab": {
          "base_uri": "https://localhost:8080/"
        },
        "outputId": "412ba7bf-718c-4cfa-993d-a027c2b918a1"
      },
      "execution_count": null,
      "outputs": [
        {
          "output_type": "stream",
          "name": "stdout",
          "text": [
            "313/313 [==============================] - 1s 2ms/step\n"
          ]
        }
      ]
    }
  ]
}